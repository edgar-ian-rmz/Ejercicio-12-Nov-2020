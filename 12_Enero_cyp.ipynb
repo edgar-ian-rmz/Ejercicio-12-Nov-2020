{
  "nbformat": 4,
  "nbformat_minor": 0,
  "metadata": {
    "colab": {
      "name": "12_Enero_cyp.ipynb",
      "provenance": [],
      "authorship_tag": "ABX9TyPO6712mX+8pQtoG8whzVAp",
      "include_colab_link": true
    },
    "kernelspec": {
      "name": "python3",
      "display_name": "Python 3"
    }
  },
  "cells": [
    {
      "cell_type": "markdown",
      "metadata": {
        "id": "view-in-github",
        "colab_type": "text"
      },
      "source": [
        "<a href=\"https://colab.research.google.com/github/edgar-ian-rmz/Ejercicios-de-computadoras-y-programacion/blob/main/12_Enero_cyp.ipynb\" target=\"_parent\"><img src=\"https://colab.research.google.com/assets/colab-badge.svg\" alt=\"Open In Colab\"/></a>"
      ]
    },
    {
      "cell_type": "code",
      "metadata": {
        "id": "YEOxKg6Kl-5e"
      },
      "source": [
        ""
      ],
      "execution_count": null,
      "outputs": []
    },
    {
      "cell_type": "markdown",
      "metadata": {
        "id": "Jc6TdcaGqSrW"
      },
      "source": [
        "#introduccion a phyton\r\n",
        "-Creado en los 90s por Guido Van R.\r\n",
        "-En el 2000 phyton mejora y tiene nuevas\r\n",
        "caracterisitcas.\r\n",
        "-En el 2020 deja de ser la version oficial phyton 2.7\r\n",
        "y solo se le dara el soporte a phyton 3 en adelante.\r\n",
        "\r\n",
        "#Caracteristicas de phyton\r\n",
        "1.-Lenguaje de propósito general.\r\n",
        "2.- Interpretado y no-compilado.\r\n",
        "3.-Tipos de datos dinámicos. (numericos, cadena, bool, \r\n",
        "entre otros).\r\n",
        "4.-Multiplataforma.\r\n",
        "5.-Lenguaje multiparadigma. (Imperativa, POO y\r\n",
        "funcional).\r\n",
        "6.-Codigo es estructurado por identación.\r\n",
        "\r\n",
        "if a > 10:\r\n",
        "print(\"Hola\")\r\n",
        "print(\"Hola 2\")\r\n",
        "\r\n",
        "##Principios Zen de Phyton.\r\n",
        "\r\n",
        "Son las caracteristicas que guian el diseño del\r\n",
        "lenguaje de programación phyton.\r\n",
        "\r\n",
        "\r\n"
      ]
    },
    {
      "cell_type": "code",
      "metadata": {
        "colab": {
          "base_uri": "https://localhost:8080/"
        },
        "id": "ragf9OXkuv3v",
        "outputId": "29dde594-a536-4187-ff47-0bd1b9cf3fa1"
      },
      "source": [
        "#Primer programa de phyton 3\r\n",
        "\r\n",
        "nombre = \"Jose\"\r\n",
        "edad = 18\r\n",
        "print(\"hola\",nombre, edad)"
      ],
      "execution_count": 2,
      "outputs": [
        {
          "output_type": "stream",
          "text": [
            "hola Jose 18\n"
          ],
          "name": "stdout"
        }
      ]
    },
    {
      "cell_type": "markdown",
      "metadata": {
        "id": "-XzPYAWpvp_Y"
      },
      "source": [
        "#La función print\r\n",
        "\r\n",
        "Es una d ela funciones mas empokeadas en programación y\r\n",
        "busca enviar datos a la salida estandar(monitor)\r\n",
        "\r\n",
        "##Formas de uso\r\n",
        "1.Con comas\r\n",
        "2.Con signos +\r\n",
        "3..format()\r\n",
        "4.el operador f \"   \"\r\n",
        "\r\n",
        "####con comas\r\n",
        "concatena los argumentos enviados a print y les agrega un espacio\r\n",
        "\r\n",
        "####con signos +\r\n",
        "concatena los valores sin espacio y sin hacer convercion \r\n",
        "de tipos.\r\n",
        "\r\n",
        "####con la función format()\r\n",
        "permite darle formato a la salida de la \r\n",
        "impresion de variable. Emplea la funcion\r\n",
        "format del tipo de  dato String.\r\n",
        "\"Cadeana a formatear\" .format(v1,v2,vn)\r\n",
        "\r\n",
        "Emplea como comodines para sustituir valores los signos {}\r\n",
        "\r\n",
        "####con operador f\r\n",
        "es una variante de la forma anteriror pero\r\n",
        "enmascarando la funcion format().\r\n",
        "\r\n",
        "print(f\"{var1} dw2dwd {var2} flsmdfr {varn})"
      ]
    },
    {
      "cell_type": "markdown",
      "metadata": {
        "id": "OUqnUqLp2Ilv"
      },
      "source": [
        "#función print() y los caracterres de escape.\r\n",
        "-\\n salto de linea\r\n",
        "-\\t tabulador\r\n",
        "-\\\\ imprimir en diagonal \\\r\n",
        "-\\' y \\'\r\n",
        "-\\uxxxx\r\n",
        "-\\uxxxxxxxx\r\n"
      ]
    },
    {
      "cell_type": "code",
      "metadata": {
        "colab": {
          "base_uri": "https://localhost:8080/"
        },
        "id": "O-GCzlyi3_Pi",
        "outputId": "b09c70cb-0a65-463b-83b0-f96e92e71af4"
      },
      "source": [
        "print('\"')\r\n",
        "print(\"\\\"\")\r\n",
        "print(\"Nombre: Jose\\n\\tcon una edad de 18años.\")\r\n",
        "#caracteres unicode\r\n",
        "\r\n",
        "print(\"Hola \\u553f\")"
      ],
      "execution_count": 5,
      "outputs": [
        {
          "output_type": "stream",
          "text": [
            "\"\n",
            "\"\n",
            "Nombre: Jose\n",
            "\tcon una edad de 18años.\n",
            "Hola 唿\n"
          ],
          "name": "stdout"
        }
      ]
    },
    {
      "cell_type": "markdown",
      "metadata": {
        "id": "hPugs94B8KKe"
      },
      "source": [
        "##print salto de linea en el argumento.\r\n",
        "\r\n",
        "print([lista de variables], end=\"\\n\")\r\n"
      ]
    },
    {
      "cell_type": "markdown",
      "metadata": {
        "id": "9zJ9WVrz9fIG"
      },
      "source": [
        "# Comentarios en phyton.\r\n",
        "Un comentario en programación, es un\r\n",
        " texto especial que es ignorado por el\r\n",
        " interprete o compilador (Segun sea el\r\n",
        " caso) y es empleado para que el \r\n",
        " programador documente sus algoritmos.\r\n",
        "\r\n",
        " Existen de 2 tipos: De línea simple y \r\n",
        " de múltiple línea.\r\n",
        "\r\n",
        " En phyton.\r\n",
        " -linea simple emplea #\r\n",
        "\r\n",
        " -linea múltiple\r\n",
        "\"\"\"\r\n",
        "multiple\r\n"
      ]
    },
    {
      "cell_type": "code",
      "metadata": {
        "id": "9mWmaKDb_ZuZ"
      },
      "source": [
        "print(hola)#comentario de linea simpre\r\n",
        "print(hola)\r\n",
        "print(hola)\r\n",
        "print(hola)\r\n",
        "\"\"\"\r\n",
        "comentraio de\r\n",
        "linea multiple\r\n",
        "\"\"\"\r\n",
        "print(hola)\r\n",
        "print(hola)\r\n",
        "print(hola)\r\n",
        "print(hola)"
      ],
      "execution_count": null,
      "outputs": []
    }
  ]
}