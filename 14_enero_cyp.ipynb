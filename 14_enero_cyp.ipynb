{
  "nbformat": 4,
  "nbformat_minor": 0,
  "metadata": {
    "colab": {
      "name": "14_enero_cyp.ipynb",
      "provenance": [],
      "authorship_tag": "ABX9TyMg6/T7ZavYz7K9VGO4foah",
      "include_colab_link": true
    },
    "kernelspec": {
      "name": "python3",
      "display_name": "Python 3"
    }
  },
  "cells": [
    {
      "cell_type": "markdown",
      "metadata": {
        "id": "view-in-github",
        "colab_type": "text"
      },
      "source": [
        "<a href=\"https://colab.research.google.com/github/edgar-ian-rmz/Ejercicios-de-computadoras-y-programacion/blob/main/14_enero_cyp.ipynb\" target=\"_parent\"><img src=\"https://colab.research.google.com/assets/colab-badge.svg\" alt=\"Open In Colab\"/></a>"
      ]
    },
    {
      "cell_type": "markdown",
      "metadata": {
        "id": "UR63qSQi5GgF"
      },
      "source": [
        "# Palabras reservadas de phyton 3\r\n",
        "\r\n",
        "1. False\r\n",
        "1. None\r\n",
        "1. True\r\n",
        "1. and\r\n",
        "1. as\r\n",
        "1. assert\r\n",
        "1. break\r\n",
        "1. class\r\n",
        "1. continue\r\n",
        "1. def\r\n",
        "1. del\r\n",
        "1. elif\r\n",
        "1. else\r\n",
        "1. except\r\n",
        "1. finally\r\n",
        "1. for\r\n",
        "1. from\r\n",
        "1. global\r\n",
        "1. if\r\n",
        "1. import\r\n",
        "1. in\r\n",
        "1. is\r\n",
        "1. lambda\r\n",
        "1. nonlocal\r\n",
        "1. not\r\n",
        "1. or\r\n",
        "1. pass\r\n",
        "1. raise\r\n",
        "1. return\r\n",
        "1. try\r\n",
        "1. while\r\n",
        "1. with\r\n",
        "1. yield"
      ]
    },
    {
      "cell_type": "code",
      "metadata": {
        "colab": {
          "base_uri": "https://localhost:8080/"
        },
        "id": "UaGeFPsu5YGB",
        "outputId": "cb7fbad6-2614-4df4-8aed-be98415ddb1a"
      },
      "source": [
        "import keyword\r\n",
        "pr = keyword.kwlist\r\n",
        "print( len (pr))\r\n",
        "for palabra in pr:\r\n",
        "  print(\"1.\",palabra)"
      ],
      "execution_count": 7,
      "outputs": [
        {
          "output_type": "stream",
          "text": [
            "33\n",
            "1. False\n",
            "1. None\n",
            "1. True\n",
            "1. and\n",
            "1. as\n",
            "1. assert\n",
            "1. break\n",
            "1. class\n",
            "1. continue\n",
            "1. def\n",
            "1. del\n",
            "1. elif\n",
            "1. else\n",
            "1. except\n",
            "1. finally\n",
            "1. for\n",
            "1. from\n",
            "1. global\n",
            "1. if\n",
            "1. import\n",
            "1. in\n",
            "1. is\n",
            "1. lambda\n",
            "1. nonlocal\n",
            "1. not\n",
            "1. or\n",
            "1. pass\n",
            "1. raise\n",
            "1. return\n",
            "1. try\n",
            "1. while\n",
            "1. with\n",
            "1. yield\n"
          ],
          "name": "stdout"
        }
      ]
    },
    {
      "cell_type": "markdown",
      "metadata": {
        "id": "J6F7Tj2D60nj"
      },
      "source": [
        "## Variable\r\n",
        "\r\n",
        "Es un espacio de mamoria de la\r\n",
        "computadora para almacenar valores que\r\n",
        "cambian a lo largo de la ejeccuicon del\r\n",
        "programa. Este espacio de memeoria esta\r\n",
        "referenciado por un identificador, el\r\n",
        "cual tiene ciertas reglas de nombrado.\r\n",
        "\r\n",
        "-No puede iniciar con número\r\n",
        "-No debe ser igual a alguna de las\r\n",
        "palabras reservadas.\r\n",
        "-Puede iniciar con guion bajo.\r\n",
        "-Evitar nombres de variables largos.\r\n",
        "-Evitar muy cortos, ejemplo: x, y ,i\r\n",
        "-Usar notacion snake_case\r\n",
        "-"
      ]
    },
    {
      "cell_type": "code",
      "metadata": {
        "colab": {
          "base_uri": "https://localhost:8080/",
          "height": 52
        },
        "id": "lJ5awMbR7sDQ",
        "outputId": "6729fea7-5921-43ca-c22d-474d8866bc3b"
      },
      "source": [
        "_2edad = 12\r\n",
        "print(_2edad)\r\n",
        "\r\n",
        "\"\"\"\r\n",
        "no s epuede usar una palabra reservada como identificador de variable. \r\n",
        "\r\n",
        "for = 13\r\n",
        "print(for)\r\n",
        "\"\"\"\r\n"
      ],
      "execution_count": 10,
      "outputs": [
        {
          "output_type": "stream",
          "text": [
            "12\n"
          ],
          "name": "stdout"
        },
        {
          "output_type": "execute_result",
          "data": {
            "application/vnd.google.colaboratory.intrinsic+json": {
              "type": "string"
            },
            "text/plain": [
              "'\\nno s epuede usar una palabra reservada como identificador de variable. \\n\\nfor = 13\\nprint(for)\\n'"
            ]
          },
          "metadata": {
            "tags": []
          },
          "execution_count": 10
        }
      ]
    },
    {
      "cell_type": "code",
      "metadata": {
        "id": "Vgi8rWRN86v1"
      },
      "source": [
        "\"\"\"\r\n",
        "La notacion snake case consta de formar el identificador de variable\r\n",
        "separando las palabras del mismi con un guion bajo.\r\n",
        "\r\n",
        "SE recomienda que los identificadores se escriban en minuscula para las variables \r\n",
        "y en mayuscula para las constantes.\r\n",
        "\r\n",
        "Es decir si tenemos una variable para los dias de la semana, se escribiria asi:\r\n",
        "\r\n",
        "dias_de_la_semana = 7\r\n",
        "dias_mes = 31\r\n",
        "limite_maximo = 100\r\n",
        "\r\n",
        "\"\"\""
      ],
      "execution_count": null,
      "outputs": []
    },
    {
      "cell_type": "markdown",
      "metadata": {
        "id": "Q6-U_gPz98mm"
      },
      "source": [
        "#Tipos de datos\r\n",
        "\r\n",
        "-Numericos\r\n",
        "  _int(1, 23, 543, etc.)\r\n",
        "  _float 4 bytes (1.14, 3.1416, 1.0)\r\n",
        "  _long 8 bytes (1, 2,23454, etc)\r\n",
        "  _complex 3+2j (Raices negativas)\r\n",
        "\r\n",
        "-boolean: True o False\r\n",
        "-staring o cadenas de caracteres (\"cad\" ,\r\n",
        "'cad' o \"\"\"cad\"\"\")\r\n",
        "-listas ([1,2,3,4], [a,b,1,2.3])\r\n",
        "-tuplas (  (edad,23), (3,4)  )\r\n",
        "-conjuntos\r\n",
        "-diccionarios ({\"nombre\": \"Juan\"})\r\n",
        "\r\n"
      ]
    },
    {
      "cell_type": "markdown",
      "metadata": {
        "id": "cMgzgCVGEAeB"
      },
      "source": [
        "#Tipo de dato String\r\n",
        "\r\n",
        "Permite almacenar cadenas \r\n",
        "de caracteres, como por ejemplo:\r\n",
        "\r\n",
        "nombre = ´'Jesus'\r\n",
        "lugar_de_nacimiento: \"México D.F, Tacuba\"\r\n",
        "frase_favorita=\"\"\" \r\n",
        "el conocimiento me persigue pero,\r\n",
        "yo soy mas rapido!!!!\r\n",
        ":)\"\"\""
      ]
    },
    {
      "cell_type": "code",
      "metadata": {
        "colab": {
          "base_uri": "https://localhost:8080/"
        },
        "id": "MSbNDo2QFIYf",
        "outputId": "3a4e1cf2-aa3e-4651-8ff0-047b0bcd006a"
      },
      "source": [
        "nombre = 'Jesus'\r\n",
        "lugar_de_nacimiento = \"México D.F, Tacuba\"\r\n",
        "frase_favorita=\"\"\" \r\n",
        "el conocimiento me persigue pero,\r\n",
        "yo soy mas rapido!!!!\r\n",
        ":)\"\"\"\r\n",
        "\r\n",
        "print(nombre)\r\n",
        "print(lugar_de_nacimiento)\r\n",
        "print(frase_favorita)"
      ],
      "execution_count": 13,
      "outputs": [
        {
          "output_type": "stream",
          "text": [
            "Jesus\n",
            "México D.F, Tacuba\n",
            " \n",
            "el conocimiento me persigue pero,\n",
            "yo soy mas rapido!!!!\n",
            ":)\n"
          ],
          "name": "stdout"
        }
      ]
    },
    {
      "cell_type": "markdown",
      "metadata": {
        "id": "tiJkqrPyFj4-"
      },
      "source": [
        "#Strings como arreglo\r\n",
        "Un string en phyton es almacenado \r\n",
        "como el tipo de dato o (estructura\r\n",
        "de datos) arreglo.\r\n",
        "\r\n",
        "por ejemplo la declaración:\r\n",
        "\r\n",
        "nombre = 'Jesus'\r\n",
        "\r\n",
        "El arreglo 'J' es almacenado en un arreglo en la posición\r\n",
        "0. La en en la 1 y asi suceasivamente.\r\n",
        "\r\n",
        "La e en el 1 y asi sucesivamente.\r\n",
        "\r\n",
        "###Selector\r\n",
        "La notacion para seleccionar \r\n",
        "un elemnto del arreglo es:\r\n",
        "```\r\n",
        "[ 1 ]\r\n",
        "\r\n",
        "```\r\n",
        "Donde el valor debe de  ser\r\n",
        "valor numerico entero."
      ]
    },
    {
      "cell_type": "code",
      "metadata": {
        "colab": {
          "base_uri": "https://localhost:8080/"
        },
        "id": "_5aqt7TOGS7X",
        "outputId": "205e813b-0828-4ecb-85fd-3bd40f005722"
      },
      "source": [
        "nombre = 'Jesus'\r\n",
        "print(nombre)\r\n",
        "print(nombre[0])\r\n",
        "print(nombre[3])"
      ],
      "execution_count": 15,
      "outputs": [
        {
          "output_type": "stream",
          "text": [
            "Jesus\n",
            "J\n",
            "u\n"
          ],
          "name": "stdout"
        }
      ]
    },
    {
      "cell_type": "markdown",
      "metadata": {
        "id": "fGzhHNivHRIL"
      },
      "source": [
        "#Iterar sobre un sting\r\n",
        "\r\n",
        "Se puede iterar sobre un sting con\r\n",
        "un ford de la foma siguiente:\r\n",
        "\r\n",
        "```\r\n",
        "for letra in range (len(nombre) ):\r\n",
        "  print( letra )\r\n",
        "```"
      ]
    },
    {
      "cell_type": "code",
      "metadata": {
        "colab": {
          "base_uri": "https://localhost:8080/"
        },
        "id": "RnEFyAYvIYoG",
        "outputId": "27e07ef2-d200-4956-d073-344560a8ce5c"
      },
      "source": [
        "for indice in range (len(nombre) ):#0 , 1 , 2 , 3 , 4\r\n",
        "  print( indice, end=\"\" )\r\n",
        "  print(nombre[indice])"
      ],
      "execution_count": 18,
      "outputs": [
        {
          "output_type": "stream",
          "text": [
            "0J\n",
            "1e\n",
            "2s\n",
            "3u\n",
            "4s\n"
          ],
          "name": "stdout"
        }
      ]
    },
    {
      "cell_type": "markdown",
      "metadata": {
        "id": "foGtDvdyKDt5"
      },
      "source": [
        "#funcion range(inicio, stop, incremento)\r\n",
        "\r\n",
        "El incremento tembien es opcional y por defecto es uno.\r\n"
      ]
    },
    {
      "cell_type": "code",
      "metadata": {
        "colab": {
          "base_uri": "https://localhost:8080/"
        },
        "id": "v-Opu4daJ3EL",
        "outputId": "df3c557b-dc4e-449a-d0c3-68cd45fd2d56"
      },
      "source": [
        "for indice in range(1 , len(nombre) , 1 ):\r\n",
        "  print(nombre[indice])"
      ],
      "execution_count": 20,
      "outputs": [
        {
          "output_type": "stream",
          "text": [
            "e\n",
            "s\n",
            "u\n",
            "s\n"
          ],
          "name": "stdout"
        }
      ]
    },
    {
      "cell_type": "code",
      "metadata": {
        "colab": {
          "base_uri": "https://localhost:8080/"
        },
        "id": "AHj4vDC3K8WD",
        "outputId": "51ba30a6-f589-43df-83a4-a286721c9310"
      },
      "source": [
        "for indice in range(4 , -1 , -1 ):\r\n",
        "  print(nombre[indice])"
      ],
      "execution_count": 24,
      "outputs": [
        {
          "output_type": "stream",
          "text": [
            "s\n",
            "u\n",
            "s\n",
            "e\n",
            "J\n"
          ],
          "name": "stdout"
        }
      ]
    },
    {
      "cell_type": "markdown",
      "metadata": {
        "id": "VMznvuWDMFkl"
      },
      "source": [
        "#String e indexado negativo\r\n",
        "En phyton 3 se agrega una nueva\r\n",
        "caracteristica a los areglos de la\r\n",
        "cadenas de caracteres, esta consta\r\n",
        "de la capacidad deindexar de forma, \r\n",
        "negativa.\r\n",
        "\r\n",
        "La lóguica es la siguiente.\r\n",
        "\r\n",
        "El ultimo elemneto s econsidera\r\n",
        "como indice (ALTERNATIVO)-1, con lo cual \r\n",
        "se podria referecniar de la cadena \r\n",
        "sin la necesidad de saber el tamaño\r\n",
        "de la misma.\r\n",
        "```\r\n",
        "indice normal 1 , 2 , 3 , 4, 5\r\n",
        "              J   e   s   u  s\r\n",
        "indice alter.-5 , -4 , -3 , -2 , -1\r\n",
        "```"
      ]
    },
    {
      "cell_type": "code",
      "metadata": {
        "colab": {
          "base_uri": "https://localhost:8080/"
        },
        "id": "NH8wn1MhM2sa",
        "outputId": "17b7f17d-d5e8-4dae-abd5-8d1536826b9e"
      },
      "source": [
        "nombre = 'Edgar'\r\n",
        "print(nombre[4] )\r\n",
        "print(nombre[-1] )\r\n"
      ],
      "execution_count": 25,
      "outputs": [
        {
          "output_type": "stream",
          "text": [
            "r\n",
            "r\n"
          ],
          "name": "stdout"
        }
      ]
    },
    {
      "cell_type": "markdown",
      "metadata": {
        "id": "V_aZ0WR1Pzm_"
      },
      "source": [
        "# Slicing de cadenas de caracteres.\r\n",
        "Esta caractersitcia permite sacar secciones de una cadena con al siguiente sintaxis:\r\n",
        "```\r\n",
        "[inicio : stop : incremento]\r\n",
        "```\r\n",
        "Donde incio e incremento son opcionales \r\n",
        "y tambioen soportan indexado alternativo."
      ]
    },
    {
      "cell_type": "code",
      "metadata": {
        "colab": {
          "base_uri": "https://localhost:8080/"
        },
        "id": "wbT_iunYQd2s",
        "outputId": "6e5503d0-aa80-4196-be4c-143432873441"
      },
      "source": [
        "facultad = \"Facultad de Estudios Superores Aragon (la mejor)\"\r\n",
        "\r\n",
        "print(facultad)\r\n",
        "for indice in range(12,20):\r\n",
        "  print(facultad[indice], end= \"\")\r\n",
        "\r\n",
        "#hacer esto mismo con la caracteristica slicing\r\n",
        "print(\"\\nCon Slicing\")\r\n",
        "print(facultad[12:20:1])\r\n",
        "\r\n",
        "# la palabra de\r\n",
        "print(facultad[9:11:1])\r\n",
        "\r\n",
        "#(la mejor) con indexado alternativo\r\n",
        "print(facultad[-9:-1:])"
      ],
      "execution_count": 48,
      "outputs": [
        {
          "output_type": "stream",
          "text": [
            "Facultad de Estudios Superores Aragon (la mejor)\n",
            "Estudios\n",
            "Con Slicing\n",
            "Estudios\n",
            "de\n",
            "la mejor\n"
          ],
          "name": "stdout"
        }
      ]
    }
  ]
}