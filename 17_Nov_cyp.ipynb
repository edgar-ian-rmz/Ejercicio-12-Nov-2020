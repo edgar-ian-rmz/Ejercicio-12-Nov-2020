{
  "nbformat": 4,
  "nbformat_minor": 0,
  "metadata": {
    "colab": {
      "name": "17_Nov_cyp.ipynb",
      "provenance": [],
      "authorship_tag": "ABX9TyOO5C1cOLoJ32WMqbhsqW8p",
      "include_colab_link": true
    },
    "kernelspec": {
      "name": "python3",
      "display_name": "Python 3"
    }
  },
  "cells": [
    {
      "cell_type": "markdown",
      "metadata": {
        "id": "view-in-github",
        "colab_type": "text"
      },
      "source": [
        "<a href=\"https://colab.research.google.com/github/edgar-ian-rmz/Ejercicios-de-computadoras-y-programacion/blob/main/17_Nov_cyp.ipynb\" target=\"_parent\"><img src=\"https://colab.research.google.com/assets/colab-badge.svg\" alt=\"Open In Colab\"/></a>"
      ]
    },
    {
      "cell_type": "code",
      "metadata": {
        "colab": {
          "base_uri": "https://localhost:8080/"
        },
        "id": "BsK4Oi82SGQa",
        "outputId": "51e0059a-d016-4839-a27b-e118a131fdcf"
      },
      "source": [
        "edad = 15\n",
        "estatura = 1.67\n",
        "a = 10\n",
        "b = 3\n",
        "\n",
        "c = 2 ** b + 2 + 3 + 4\n",
        "\n",
        "print ( c )\n",
        "\n",
        "e = estatura * 2.0\n",
        "print ( e )\n",
        "\n",
        "f = a / b #En phyton se hace el caclculo exacto\n",
        "print ( f ) #3.3333\n",
        "\n",
        "#Tambien podemos forzar al calculo de enteros\n",
        "g= a // b\n",
        "print (\"g=\",g )\n",
        "\n",
        "h= a % b\n",
        "print (\"h=\" ,h)\n",
        "\n",
        "num = 10\n",
        "print (\"Es par num?\", (num % 2) ==0 )\n"
      ],
      "execution_count": 8,
      "outputs": [
        {
          "output_type": "stream",
          "text": [
            "17\n",
            "3.34\n",
            "3.3333333333333335\n",
            "g= 3\n",
            "h= 1\n",
            "Es par num? True\n"
          ],
          "name": "stdout"
        }
      ]
    },
    {
      "cell_type": "code",
      "metadata": {
        "colab": {
          "base_uri": "https://localhost:8080/"
        },
        "id": "thv2FqE1W3pD",
        "outputId": "3c739e76-683e-4282-ebb3-e72fd4bfc211"
      },
      "source": [
        " ecuacion = 9 + 7 * 8 - 36 / 5  # 9 + 56 -7.2 -> 65 - 7.2 = 57.8\n",
        " print (ecuacion)\n",
        "\n",
        " ecuacion = (9 + 7) * 8 - 36 / 5  #128-7.2\n",
        " print (ecuacion)\n",
        "\n",
        " ecuacion = 9 + 7 * (8 - 36) / 5  #-28*7/5+9\n",
        " print (ecuacion) "
      ],
      "execution_count": 11,
      "outputs": [
        {
          "output_type": "stream",
          "text": [
            "57.8\n",
            "120.8\n",
            "-30.200000000000003\n"
          ],
          "name": "stdout"
        }
      ]
    },
    {
      "cell_type": "code",
      "metadata": {
        "colab": {
          "base_uri": "https://localhost:8080/"
        },
        "id": "Ph399sbIb2rQ",
        "outputId": "2af9bd83-f151-4b54-8be6-8cae1c940e97"
      },
      "source": [
        "#operadores loguicos\n",
        "\n",
        "x=5\n",
        "y=4\n",
        "\n",
        "\n",
        "valor = (x == y) #false\n",
        "print(valor)\n",
        "\n",
        "valor = (x != y) #true\n",
        "print(valor)\n",
        "\n",
        "valor = (x < y) #x es menor que y?? False\n",
        "print(valor)\n",
        "\n",
        "valor = (x > y) #x es mayor que y?? true\n",
        "print(valor)\n",
        "\n",
        "valor = (x <= y) #x es menor o igual que y?? False\n",
        "print(valor)\n",
        "\n",
        "valor = (x > y) #x es mayor o igual que y?? True\n",
        "print(valor) "
      ],
      "execution_count": 16,
      "outputs": [
        {
          "output_type": "stream",
          "text": [
            "False\n",
            "True\n",
            "False\n",
            "True\n",
            "False\n",
            "True\n"
          ],
          "name": "stdout"
        }
      ]
    },
    {
      "cell_type": "code",
      "metadata": {
        "colab": {
          "base_uri": "https://localhost:8080/"
        },
        "id": "dDl2q0tXfaR8",
        "outputId": "4586b5d7-ce44-4d9f-cd02-90293f760f14"
      },
      "source": [
        "costo_chetos=7.0\n",
        "tienda_abierta = True\n",
        "capital_en_bolsa=10\n",
        "\n",
        "se_compra = ( costo_chetos < capital_en_bolsa ) and (tienda_abierta == True)\n",
        "print(se_compra)"
      ],
      "execution_count": 20,
      "outputs": [
        {
          "output_type": "stream",
          "text": [
            "True\n"
          ],
          "name": "stdout"
        }
      ]
    }
  ]
}