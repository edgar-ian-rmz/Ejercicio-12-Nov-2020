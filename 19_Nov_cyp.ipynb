{
  "nbformat": 4,
  "nbformat_minor": 0,
  "metadata": {
    "colab": {
      "name": "19_Nov_cyp.ipynb",
      "provenance": [],
      "authorship_tag": "ABX9TyPbk1bchvNAjce2GHmfjViq",
      "include_colab_link": true
    },
    "kernelspec": {
      "name": "python3",
      "display_name": "Python 3"
    }
  },
  "cells": [
    {
      "cell_type": "markdown",
      "metadata": {
        "id": "view-in-github",
        "colab_type": "text"
      },
      "source": [
        "<a href=\"https://colab.research.google.com/github/edgar-ian-rmz/Ejercicios-de-computadoras-y-programacion/blob/main/19_Nov_cyp.ipynb\" target=\"_parent\"><img src=\"https://colab.research.google.com/assets/colab-badge.svg\" alt=\"Open In Colab\"/></a>"
      ]
    },
    {
      "cell_type": "code",
      "metadata": {
        "id": "mBA-j9v1ecLq"
      },
      "source": [
        "# Concepto de  asignacion\n",
        "I = 0\n",
        "I = I + 1\n",
        "print(f\"I={I}\")\n",
        "J=5**2/3\n",
        "print(f\"J={J}\")"
      ],
      "execution_count": null,
      "outputs": []
    },
    {
      "cell_type": "code",
      "metadata": {
        "colab": {
          "base_uri": "https://localhost:8080/"
        },
        "id": "eox6GWn5pMLG",
        "outputId": "84a4201a-f4ed-4415-e6a5-7590fc53179f"
      },
      "source": [
        "# Declarcacion de variables \n",
        "A = 0\n",
        "B = 0\n",
        "C = 0\n",
        "D = 0\n",
        "\n",
        "A = int ( input(\"Dame un valor entero:\") )\n",
        "B = int ( input(\"Dame un valor entero:\") )\n",
        "C = int ( input(\"Dame un valor entero:\") )\n",
        "D = int ( input(\"Dame un valor entero:\") )\n",
        "\n",
        "print (D)\n",
        "print (C)\n",
        "print (B)\n",
        "print (A)"
      ],
      "execution_count": 11,
      "outputs": [
        {
          "output_type": "stream",
          "text": [
            "Dame un valor entero:10\n",
            "Dame un valor entero:20\n",
            "Dame un valor entero:30\n",
            "Dame un valor entero:40\n",
            "40\n",
            "30\n",
            "20\n",
            "10\n"
          ],
          "name": "stdout"
        }
      ]
    },
    {
      "cell_type": "code",
      "metadata": {
        "colab": {
          "base_uri": "https://localhost:8080/"
        },
        "id": "MNELL29EpKwZ",
        "outputId": "554d6968-7372-4baa-cc2d-8a9dd94b34e0"
      },
      "source": [
        "#ejemplo 1.7\n",
        "A=0\n",
        "B=0\n",
        "A=int( input(\"Dame un entero:\"))\n",
        "B=int( input(\"Dame otro entero:\"))\n",
        "RES = ( A + B )** 2 / 3\n",
        "print(RES)\n"
      ],
      "execution_count": 8,
      "outputs": [
        {
          "output_type": "stream",
          "text": [
            "Dame un entero:14\n",
            "Dame otro entero:-5\n",
            "27.0\n"
          ],
          "name": "stdout"
        }
      ]
    },
    {
      "cell_type": "code",
      "metadata": {
        "colab": {
          "base_uri": "https://localhost:8080/"
        },
        "id": "BOFx8Lu7uJz9",
        "outputId": "2895752c-94cf-4ddb-96f8-149f5c7c5418"
      },
      "source": [
        "# ejemplo 1.8\n",
        "MAT = 0\n",
        "CAL1 = 0 \n",
        "CAL2 = 0\n",
        "CAL3 = 0\n",
        "CAL4 = 0\n",
        "CAL5 = 0\n",
        "PRO = 0.0\n",
        "\n",
        "MAT = int (input(\"Dame la matricula:\"))\n",
        "CAL1 = float (input(\"Dame la calificacion 1:\"))\n",
        "CAL2 = float (input(\"Dame la calificacion 2:\"))\n",
        "CAL3 = float (input(\"Dame la calificacion 3:\"))\n",
        "CAL4 = float (input(\"Dame la calificacion 4:\"))\n",
        "CAL5 = float (input(\"Dame la calificacion 5:\"))\n",
        "PRO = ( CAL1 + CAL2 + CAL3 + CAL4 + CAL5 ) / 5\n",
        "\n",
        "print (MAT, PRO)"
      ],
      "execution_count": 36,
      "outputs": [
        {
          "output_type": "stream",
          "text": [
            "Dame la matricula:1\n",
            "Dame la calificacion 1:9\n",
            "Dame la calificacion 2:8\n",
            "Dame la calificacion 3:7\n",
            "Dame la calificacion 4:9\n",
            "Dame la calificacion 5:10\n",
            "1 8.6\n"
          ],
          "name": "stdout"
        }
      ]
    },
    {
      "cell_type": "code",
      "metadata": {
        "colab": {
          "base_uri": "https://localhost:8080/"
        },
        "id": "Q4kJcvzEyqVI",
        "outputId": "7702fc1f-bc92-48e9-b9ad-e1c9d9916c84"
      },
      "source": [
        "num = int(input(\"Number: \"))\n",
        "print(num ** 2)\n",
        "print(num ** 3)"
      ],
      "execution_count": 32,
      "outputs": [
        {
          "output_type": "stream",
          "text": [
            "Number: 7\n",
            "49\n",
            "343\n"
          ],
          "name": "stdout"
        }
      ]
    },
    {
      "cell_type": "code",
      "metadata": {
        "colab": {
          "base_uri": "https://localhost:8080/"
        },
        "id": "LaKVG1KhzQQ2",
        "outputId": "5a854869-5ece-4310-9cc8-b76b5069c787"
      },
      "source": [
        "#ejemplo 1.10\n",
        "BASE = int(input(\"Base:\"))\n",
        "ALTURA = int(input(\"Altura:\"))\n",
        "\n",
        "per = ( BASE + ALTURA ) * 2\n",
        "area = (BASE * ALTURA)\n",
        "\n",
        "print (f\"Perimetro {per}\" )\n",
        "print (f\"Area {area}\")"
      ],
      "execution_count": 42,
      "outputs": [
        {
          "output_type": "stream",
          "text": [
            "Base:7\n",
            "Altura:9\n",
            "Perimetro 32\n",
            "Area 63\n"
          ],
          "name": "stdout"
        }
      ]
    }
  ]
}