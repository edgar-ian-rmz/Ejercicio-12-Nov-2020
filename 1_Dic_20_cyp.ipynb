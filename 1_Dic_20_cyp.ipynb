{
  "nbformat": 4,
  "nbformat_minor": 0,
  "metadata": {
    "colab": {
      "name": "1_Dic_20_cyp.ipynb",
      "provenance": [],
      "collapsed_sections": [],
      "authorship_tag": "ABX9TyNAjkGLO16h0t2202Dpak5c",
      "include_colab_link": true
    },
    "kernelspec": {
      "name": "python3",
      "display_name": "Python 3"
    }
  },
  "cells": [
    {
      "cell_type": "markdown",
      "metadata": {
        "id": "view-in-github",
        "colab_type": "text"
      },
      "source": [
        "<a href=\"https://colab.research.google.com/github/edgar-ian-rmz/Ejercicios-de-computadoras-y-programacion/blob/main/1_Dic_20_cyp.ipynb\" target=\"_parent\"><img src=\"https://colab.research.google.com/assets/colab-badge.svg\" alt=\"Open In Colab\"/></a>"
      ]
    },
    {
      "cell_type": "code",
      "metadata": {
        "colab": {
          "base_uri": "https://localhost:8080/"
        },
        "id": "e9SVbBoXS34p",
        "outputId": "55c12067-56fd-4bab-dd01-49a0e408d9df"
      },
      "source": [
        "#ejemplo 1\n",
        "#Pedir 3 numeros enteros y se debe mostrar el mayor de los 3\n",
        "numero1 = int (input(\"Introduce el primer numero: \"))\n",
        "numero2 = int (input(\"Introduce el segundo numero: \"))\n",
        "numero3 = int (input(\"Introduce el tercer numero: \"))\n",
        "\n",
        "if numero1 >= numero2 and numero1>= numero3:\n",
        "  print(numero1, \"Es el mayor\")\n",
        "\n",
        "elif numero2 >= numero1 and numero2>= numero3:\n",
        "  print(numero2, \"Es el mayor\")\n",
        "\n",
        "elif numero3 >= numero1 and numero3>= numero2:\n",
        "  print(numero3, \"Es el mayor\")\n",
        "  "
      ],
      "execution_count": 4,
      "outputs": [
        {
          "output_type": "stream",
          "text": [
            "Introduce el primer numero: 3\n",
            "Introduce el segundo numero: 6\n",
            "Introduce el tercer numero: 9\n",
            "9 Es el mayor\n"
          ],
          "name": "stdout"
        }
      ]
    },
    {
      "cell_type": "code",
      "metadata": {
        "colab": {
          "base_uri": "https://localhost:8080/"
        },
        "id": "0zpTNTYjVupE",
        "outputId": "96948cf0-05a8-4b88-f361-f656d35d174f"
      },
      "source": [
        "#ejemplo 2\n",
        "print(\"Ingrese el nombre del trabjador\")\n",
        "nombre=input()\n",
        "print(\"Cuantas horas trabajo esta semana\", nombre, \":\")\n",
        "horas=int(input())\n",
        "print(\"Cuanto se paga por hora?:\")\n",
        "sueldoH=float(input())\n",
        " \n",
        "#Evaluar sueldo\n",
        "if (horas<=40):\n",
        "  pago=horas* sueldoH\n",
        "  print(\"el sueldo final de\" ,nombre , \"Es $\", pago)\n",
        "\n",
        "else:\n",
        "  extras=horas-40\n",
        "  pago=40 * sueldoH\n",
        "  pagofinal=pago+((extras * sueldoH)*2)\n",
        "  print(\"El sueldo final de\" ,nombre , \"Es $\", pagofinal)"
      ],
      "execution_count": 64,
      "outputs": [
        {
          "output_type": "stream",
          "text": [
            "Ingrese el nombre del trabjador\n",
            "mario\n",
            "Cuantas horas trabajo esta semana mario :\n",
            "50\n",
            "Cuanto se paga por hora?:\n",
            "10\n",
            "El sueldo final de mario Es $ 600.0\n"
          ],
          "name": "stdout"
        }
      ]
    },
    {
      "cell_type": "code",
      "metadata": {
        "colab": {
          "base_uri": "https://localhost:8080/"
        },
        "id": "PAWALdFsZa07",
        "outputId": "dea5a4fa-292c-40fc-cd8a-e0874cb8f716"
      },
      "source": [
        "#Ejemplo 3\n",
        "#Calcular el salario semanal de x trabajador\n",
        "#El salario semanal se calcula en base a las horas semanales trabajadas\n",
        "#El pago por hora es variable (se pide por teclado)\n",
        "#Si las horas trabajadas superan las 40 horas, el pago por hora extra es:\n",
        "#Doble en el rango de 41horas a 50horas\n",
        "#Triple en el rango de 51horas a 60 horas\n",
        "#Incentivo de $2000 si rebasa las 60 horas.\n",
        "\n",
        "print(\"Ingrese el nombre del trabjador\")\n",
        "nombre=input()\n",
        "print(\"Cuantas horas trabajo esta semana\", nombre, \":\")\n",
        "horas=int(input())\n",
        "print(\"Cuanto se paga por hora?:\")\n",
        "sueldoH=float(input())\n",
        "\n",
        "#Evaluar el sueldo\n",
        "\n",
        "if(horas<=40):\n",
        "  pago=horas*sueldoH\n",
        "  print(\"El sueldo de\",nombre,\"es $\", pago)\n",
        "\n",
        "elif(horas>40 and horas <=50):\n",
        "  extrasDobles=horas-40\n",
        "  print(\"Horas extras:\",extrasDobles)\n",
        "  pago=40*sueldoH\n",
        "  print(\"Sueldo $\", pago)\n",
        "  pagoDoble=extrasDobles*sueldoH*2\n",
        "  print(\"pago de horas dobles $\", pagoDoble)\n",
        "  pagoFinal=pago+pagoDoble\n",
        "  print(\"El sueldo de\",nombre,\"es $\", pagoFinal)\n",
        "\n",
        "elif ((horas>=51 and horas <=60 )):\n",
        "    extrasTriples=horas-50\n",
        "    print(\"horas extra dobles:10\")\n",
        "    print(\"horas extra triples:\", extrasTriples)\n",
        "    pago=40*sueldoH\n",
        "    print(\"sueldo base: $\", pago)\n",
        "    pagoDoble=10*sueldoH*2\n",
        "    print(\"pago de horas extras dobles:\", pagoDoble)\n",
        "    pagoTriple=extrasTriples*sueldoH*3\n",
        "    print(\"pago de horas extra triples:\" ,pagoTriple)\n",
        "    pagoFinal=pago+pagoDoble+pagoTriple\n",
        "    print(\"El sueldo de\",nombre,\"es $\", pagoFinal)\n",
        "\n",
        "else:\n",
        "  extrasTriples=10\n",
        "  print(\"Horas extra dobles 10\")\n",
        "  print(\"horas extra triples 10\")\n",
        "  pago= 40*sueldoH\n",
        "  print(\"Sueldo Base:$\",pago)\n",
        "  pagoDoble=10*sueldoH*2\n",
        "  print(\"Pago de horas extra Dobles:\", pagoDoble)\n",
        "  pagoTriple=extrasTriples * sueldoH*3\n",
        "  print(\"pago de horas extra triples:\", pagoTriple)\n",
        "  print(\"Incentivo por trabajar más de 60 horas:$ $2000\")\n",
        "  pagoFinal= pago+pagoDoble+pagoTriple+2000\n",
        "  print(\"El sueldo Final de : \" ,nombre , \"Es $\", pagoFinal)\n",
        "\n"
      ],
      "execution_count": 60,
      "outputs": [
        {
          "output_type": "stream",
          "text": [
            "Ingrese el nombre del trabjador\n",
            "ana\n",
            "Cuantas horas trabajo esta semana ana :\n",
            "55\n",
            "Cuanto se paga por hora?:\n",
            "10\n",
            "horas extra dobles:10\n",
            "horas extra triples: 5\n",
            "sueldo base: $ 400.0\n",
            "pago de horas extras dobles: 200.0\n",
            "pago de horas extra triples: 150.0\n",
            "El sueldo de ana es $ 750.0\n"
          ],
          "name": "stdout"
        }
      ]
    },
    {
      "cell_type": "code",
      "metadata": {
        "colab": {
          "base_uri": "https://localhost:8080/"
        },
        "id": "rRsoIxzqogZJ",
        "outputId": "5455107e-c8f1-420d-c78a-06d18268737c"
      },
      "source": [
        "#ESTRUCTURA FOR\n",
        "\n",
        "#Ejemplo 1\n",
        "\n",
        "for estaciones_año  in [\"primavera\", \"verano\", \"otoño\", \"invierno\"]:#in es una palabra reservada, elemento a recorrer\n",
        "  print(estaciones_año)"
      ],
      "execution_count": 72,
      "outputs": [
        {
          "output_type": "stream",
          "text": [
            "primavera\n",
            "verano\n",
            "otoño\n",
            "invierno\n"
          ],
          "name": "stdout"
        }
      ]
    }
  ]
}