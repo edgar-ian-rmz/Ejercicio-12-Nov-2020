{
  "nbformat": 4,
  "nbformat_minor": 0,
  "metadata": {
    "colab": {
      "name": "22_Nov/Tarea 3 cyp.ipynb",
      "provenance": [],
      "authorship_tag": "ABX9TyOG3WYSt9Jnrngi1888qTba",
      "include_colab_link": true
    },
    "kernelspec": {
      "name": "python3",
      "display_name": "Python 3"
    }
  },
  "cells": [
    {
      "cell_type": "markdown",
      "metadata": {
        "id": "view-in-github",
        "colab_type": "text"
      },
      "source": [
        "<a href=\"https://colab.research.google.com/github/edgar-ian-rmz/Ejercicios-de-computadoras-y-programacion/blob/main/22_Nov_Tarea_3_cyp.ipynb\" target=\"_parent\"><img src=\"https://colab.research.google.com/assets/colab-badge.svg\" alt=\"Open In Colab\"/></a>"
      ]
    },
    {
      "cell_type": "code",
      "metadata": {
        "colab": {
          "base_uri": "https://localhost:8080/"
        },
        "id": "_Ncr_oevDskD",
        "outputId": "d4806a69-9b36-42d9-e841-4fd88ebb033b"
      },
      "source": [
        "#Problema 1.1 \n",
        "\n",
        "Prepro = int(input(\"dame el precio del producto:\"))\n",
        "Pago = int(input(\"pago realizado por el comprador:\"))\n",
        "\n",
        "Devo = (Pago - Prepro)  \n",
        "print (f\"cambio: {Devo}\") \n"
      ],
      "execution_count": 6,
      "outputs": [
        {
          "output_type": "stream",
          "text": [
            "dame el precio del producto:10\n",
            "pago realizado por el comprador:20\n",
            "cambio: 10\n"
          ],
          "name": "stdout"
        }
      ]
    },
    {
      "cell_type": "code",
      "metadata": {
        "colab": {
          "base_uri": "https://localhost:8080/"
        },
        "id": "OgvHs0klZC37",
        "outputId": "f50360f5-0a7e-4074-9084-8a9b7bf7f628"
      },
      "source": [
        "#Problema 1.2\n",
        "BASE = int(input(\"Base:\"))\n",
        "ALTURA = int(input(\"Altura:\"))\n",
        "\n",
        "SUP= ( BASE * ALTURA ) / 2\n",
        "print (f\"triangulo: {SUP}\")\n"
      ],
      "execution_count": 5,
      "outputs": [
        {
          "output_type": "stream",
          "text": [
            "Base:4\n",
            "Altura:5\n",
            "triangulo: 10.0\n"
          ],
          "name": "stdout"
        }
      ]
    },
    {
      "cell_type": "code",
      "metadata": {
        "colab": {
          "base_uri": "https://localhost:8080/"
        },
        "id": "ydqKAmOxmJPz",
        "outputId": "5cad07a1-2629-43e4-fcc9-a87cafb78925"
      },
      "source": [
        "#Problema 1.3\n",
        "NOM = (\"T-rex\") #Nombre del dinosaurio\n",
        "PES = int(input(\"Peso en toneladas: \"))\n",
        "LON = int(input(\"Longuitud en pies: \"))\n",
        "\n",
        "PESKILL = (PES)*1000\n",
        "LONMET = (LON)*0.5047\n",
        "\n",
        "print (NOM)\n",
        "print (f\"Peso en kilos: {PESKILL}\")\n",
        "print (f\"Longuitud en metros: {LONMET}\")"
      ],
      "execution_count": 38,
      "outputs": [
        {
          "output_type": "stream",
          "text": [
            "Peso en toneladas: 8\n",
            "Longuitud en pies: 30\n",
            "T-rex\n",
            "Peso en kilos: 8000\n",
            "Longuitud en metros: 15.141000000000002\n"
          ],
          "name": "stdout"
        }
      ]
    },
    {
      "cell_type": "code",
      "metadata": {
        "colab": {
          "base_uri": "https://localhost:8080/"
        },
        "id": "NdYqEHUkvUWi",
        "outputId": "f4c1f5fc-21da-4434-92ad-7ee65c198015"
      },
      "source": [
        "#Problema 1.4\n",
        "GAL = int(input(\"galones de gasolina: \"))\n",
        "\n",
        "Total = (GAL)*3.789*8.2 #Precios y su inflacion\n",
        "print(f\"Cobro al cliente: {Total}\")\n"
      ],
      "execution_count": 39,
      "outputs": [
        {
          "output_type": "stream",
          "text": [
            "galones de gasolina: 8\n",
            "Cobro al cliente: 248.55839999999998\n"
          ],
          "name": "stdout"
        }
      ]
    },
    {
      "cell_type": "code",
      "metadata": {
        "colab": {
          "base_uri": "https://localhost:8080/"
        },
        "id": "nDJLWdASxSrt",
        "outputId": "ae614ec7-7875-426c-9f64-4f0e210d301f"
      },
      "source": [
        "#Problema 1.5\n",
        "Radio = int(input(\"Radio del cilindro: \"))\n",
        "Altura = int(input(\"Altura del cilindro: \"))\n",
        "\n",
        "VOL = (Radio**2)*Altura*3.141592\n",
        "AREA = (2*3.141592*Radio*Altura)\n",
        "\n",
        "print(f\"Volumen: {VOL}\")\n",
        "print(f\"Area: {AREA}\")\n"
      ],
      "execution_count": 45,
      "outputs": [
        {
          "output_type": "stream",
          "text": [
            "Radio del cilindro: 10\n",
            "Altura del cilindro: 8\n",
            "Volumen: 2513.2736\n",
            "Area: 502.65472\n"
          ],
          "name": "stdout"
        }
      ]
    },
    {
      "cell_type": "code",
      "metadata": {
        "colab": {
          "base_uri": "https://localhost:8080/"
        },
        "id": "R8b_Rb58zfFH",
        "outputId": "484b4bbf-7e8d-4ab9-864e-8125adaef88e"
      },
      "source": [
        "#Pronblema 1.6\n",
        "DIAS = int(input(\"Cuantos dias: \"))\n",
        "\n",
        "SEG = (DIAS)*24*60*60\n",
        "print(f\"En dias hay: {SEG}\")\n"
      ],
      "execution_count": 47,
      "outputs": [
        {
          "output_type": "stream",
          "text": [
            "Cuantos dias: 240\n",
            "En dias hay: 20736000\n"
          ],
          "name": "stdout"
        }
      ]
    }
  ]
}