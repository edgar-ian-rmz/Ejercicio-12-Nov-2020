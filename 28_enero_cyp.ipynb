{
  "nbformat": 4,
  "nbformat_minor": 0,
  "metadata": {
    "colab": {
      "name": "28_enero_cyp.ipynb",
      "provenance": [],
      "authorship_tag": "ABX9TyNvqKbjSkdYsxVG/+YpSSKa",
      "include_colab_link": true
    },
    "kernelspec": {
      "name": "python3",
      "display_name": "Python 3"
    }
  },
  "cells": [
    {
      "cell_type": "markdown",
      "metadata": {
        "id": "view-in-github",
        "colab_type": "text"
      },
      "source": [
        "<a href=\"https://colab.research.google.com/github/edgar-ian-rmz/Ejercicios-de-computadoras-y-programacion/blob/main/28_enero_cyp.ipynb\" target=\"_parent\"><img src=\"https://colab.research.google.com/assets/colab-badge.svg\" alt=\"Open In Colab\"/></a>"
      ]
    },
    {
      "cell_type": "markdown",
      "metadata": {
        "id": "aKkfoHWMBjO5"
      },
      "source": [
        "# Tuplas\r\n",
        "- Tipo de dato lineal, estructura de datos\r\n",
        "- Es no mutable\r\n",
        "- Puede contener de 0 a n elemntos\r\n",
        "- Se declara con \"(\" y \")\"\r\n",
        "- No puedes agregar ni eliminar elementos\r\n",
        "- Puede ser anidadas\r\n",
        "- los argumentosa una funcion son enviadas como tuplas "
      ]
    },
    {
      "cell_type": "code",
      "metadata": {
        "colab": {
          "base_uri": "https://localhost:8080/",
          "height": 128
        },
        "id": "WoTHelKwCPPO",
        "outputId": "2e69e40f-7336-41bd-c5f5-539fd60586a8"
      },
      "source": [
        "frutas = ('Sandia', 'Melon', 'Limon', 'Mango')\r\n",
        "print(frutas)\r\n",
        "print(frutas[1:3:1])\r\n",
        "print(frutas.count('Manzanas'))\r\n",
        "\r\n",
        "#son inmutables\r\n",
        "frutas[1] = \"manzana\"\r\n",
        "\r\n",
        "# ¿Para que se usan?\r\n",
        "conexion = ('132.248.12.12', 3306, 'cyp_bd', usr_test '1234dios')\r\n",
        "print(f\"usuarios:{ conexion[3] } y passwd: {conexion[4] }\")\r\n",
        "\r\n"
      ],
      "execution_count": 11,
      "outputs": [
        {
          "output_type": "error",
          "ename": "SyntaxError",
          "evalue": "ignored",
          "traceback": [
            "\u001b[0;36m  File \u001b[0;32m\"<ipython-input-11-91bee0d87930>\"\u001b[0;36m, line \u001b[0;32m10\u001b[0m\n\u001b[0;31m    conexion = ('132.248.12.12', 3306, 'cyp_bd', usr_test '1234dios')\u001b[0m\n\u001b[0m                                                                   ^\u001b[0m\n\u001b[0;31mSyntaxError\u001b[0m\u001b[0;31m:\u001b[0m invalid syntax\n"
          ]
        }
      ]
    },
    {
      "cell_type": "code",
      "metadata": {
        "colab": {
          "base_uri": "https://localhost:8080/"
        },
        "id": "0nMxnLdSDSL6",
        "outputId": "c04eaeb9-e0d6-4fc1-9541-de73de972304"
      },
      "source": [
        "print( dir(frutas))"
      ],
      "execution_count": 6,
      "outputs": [
        {
          "output_type": "stream",
          "text": [
            "['__add__', '__class__', '__contains__', '__delattr__', '__dir__', '__doc__', '__eq__', '__format__', '__ge__', '__getattribute__', '__getitem__', '__getnewargs__', '__gt__', '__hash__', '__init__', '__init_subclass__', '__iter__', '__le__', '__len__', '__lt__', '__mul__', '__ne__', '__new__', '__reduce__', '__reduce_ex__', '__repr__', '__rmul__', '__setattr__', '__sizeof__', '__str__', '__subclasshook__', 'count', 'index']\n"
          ],
          "name": "stdout"
        }
      ]
    },
    {
      "cell_type": "markdown",
      "metadata": {
        "id": "crU5w0xdFuvk"
      },
      "source": [
        "#Diccionarios\r\n",
        "- Estructura de datos semi lineal.\r\n",
        "- Utiliza organización por función de\r\n",
        "dispercion.\r\n",
        "-Formada por pares, llave-valor\r\n",
        "- Equivalente al tipo de dato JSON, de \r\n",
        "JavaScript\r\n",
        "- Se declara con los elementos\r\n",
        "-El selectro usa valores de tipo \r\n",
        "string (llave)\r\n",
        "- No se puede seleccionar por offset [1]\r\n",
        "- son mutables\r\n"
      ]
    },
    {
      "cell_type": "code",
      "metadata": {
        "colab": {
          "base_uri": "https://localhost:8080/"
        },
        "id": "MyAD2qCDHBnv",
        "outputId": "1d03c8ba-6cec-4e50-e234-0c6467377a72"
      },
      "source": [
        "alumno = {'nombre': 'Juan Perez', 'edad' : 18, 'calificacion' : 10, }\r\n",
        "print(alumno)\r\n",
        "print( alumno['nombre'])"
      ],
      "execution_count": 12,
      "outputs": [
        {
          "output_type": "stream",
          "text": [
            "{'nombre': 'Juan Perez', 'edad': 18}\n",
            "Juan Perez\n"
          ],
          "name": "stdout"
        }
      ]
    },
    {
      "cell_type": "code",
      "metadata": {
        "colab": {
          "base_uri": "https://localhost:8080/"
        },
        "id": "NR6RcEjyLdoO",
        "outputId": "e6085243-e805-4b56-8ff1-6165741ebf60"
      },
      "source": [
        "alumno = { 'nombre' : 'Juan Pérez', 'edad' : 18, 'Matricula': 312193, 'calificaciones' : ['Mate: 8', 'ciencias: 9', 'ingles: 8'], 'aprovado' : True }\r\n",
        "print(alumno)\r\n",
        "print(alumno['nombre'])\r\n",
        "print(alumno['calificaciones'])"
      ],
      "execution_count": 13,
      "outputs": [
        {
          "output_type": "stream",
          "text": [
            "{'nombre': 'Juan Pérez', 'edad': 18, 'Matricula': 312193, 'calificaciones': ['Mate: 8', 'ciencias: 9', 'ingles: 8'], 'aprovado': True}\n",
            "Juan Pérez\n",
            "['Mate: 8', 'ciencias: 9', 'ingles: 8']\n"
          ],
          "name": "stdout"
        }
      ]
    },
    {
      "cell_type": "code",
      "metadata": {
        "id": "3J9pS045aBAt"
      },
      "source": [
        "#  kareli\r\n",
        "alumno = {    'nombre'  : 'Juan Pérez'  ,\r\n",
        "          'edad' : 18, \r\n",
        "          'Matricula': 312193,\r\n",
        "          'calificaciones' : {'Mate': 8 , 'ciencias': 9, 'ingles': 8 },\r\n",
        "          'aprovado' : True,\r\n",
        "          'direccion': {\r\n",
        "                        'calle':'Rancho seco',\r\n",
        "                        'numero': 's/n',\r\n",
        "                        'colonia': 'impulsora popular avicola',\r\n",
        "                        'municipio': 'Mi-nezota',\r\n",
        "                        'estado':{\r\n",
        "                                   'clave':15,\r\n",
        "                                   'nombre_clave':'MEX',\r\n",
        "                                   'nombre':\"Estado de México\"\r\n",
        "                                  }\r\n",
        "                       }\r\n",
        "          }"
      ],
      "execution_count": null,
      "outputs": []
    },
    {
      "cell_type": "code",
      "metadata": {
        "id": "oX56gaRqOPLl"
      },
      "source": [
        "cliente = {}"
      ],
      "execution_count": null,
      "outputs": []
    },
    {
      "cell_type": "markdown",
      "metadata": {
        "id": "NbCOH9icV4Eb"
      },
      "source": [
        "#Manipulacion de los pares laves valor.\r\n",
        "Para ello se emplean los sig metodos\r\n",
        "- keys() te regresa una tupla de los strings llave\r\n",
        "del diccionario.\r\n",
        "- values() Te regresa solo los valores\r\n",
        "- items() Te regresa los pares\r\n"
      ]
    },
    {
      "cell_type": "code",
      "metadata": {
        "colab": {
          "base_uri": "https://localhost:8080/"
        },
        "id": "2jj1UTtUWsbT",
        "outputId": "6b78354f-828a-40f6-9859-a57080267d02"
      },
      "source": [
        "print(alumno)\r\n",
        "llaves = alumno.keys()\r\n",
        "print(llaves)\r\n",
        "for elem in llaves:\r\n",
        "  print(elem)\r\n",
        "  print(alumno[elem])"
      ],
      "execution_count": 15,
      "outputs": [
        {
          "output_type": "stream",
          "text": [
            "{'nombre': 'Juan Pérez', 'edad': 18, 'Matricula': 312193, 'calificaciones': ['Mate: 8', 'ciencias: 9', 'ingles: 8'], 'aprovado': True}\n",
            "dict_keys(['nombre', 'edad', 'Matricula', 'calificaciones', 'aprovado'])\n",
            "nombre\n",
            "Juan Pérez\n",
            "edad\n",
            "18\n",
            "Matricula\n",
            "312193\n",
            "calificaciones\n",
            "['Mate: 8', 'ciencias: 9', 'ingles: 8']\n",
            "aprovado\n",
            "True\n"
          ],
          "name": "stdout"
        }
      ]
    }
  ]
}