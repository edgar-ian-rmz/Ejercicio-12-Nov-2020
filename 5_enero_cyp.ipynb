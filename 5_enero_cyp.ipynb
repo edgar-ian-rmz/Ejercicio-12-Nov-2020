{
  "nbformat": 4,
  "nbformat_minor": 0,
  "metadata": {
    "colab": {
      "name": "5_enero_cyp.ipynb",
      "provenance": [],
      "authorship_tag": "ABX9TyNfE6IQhC9c4GIEiNg4FnFa",
      "include_colab_link": true
    },
    "kernelspec": {
      "name": "python3",
      "display_name": "Python 3"
    }
  },
  "cells": [
    {
      "cell_type": "markdown",
      "metadata": {
        "id": "view-in-github",
        "colab_type": "text"
      },
      "source": [
        "<a href=\"https://colab.research.google.com/github/edgar-ian-rmz/Ejercicios-de-computadoras-y-programacion/blob/main/5_enero_cyp.ipynb\" target=\"_parent\"><img src=\"https://colab.research.google.com/assets/colab-badge.svg\" alt=\"Open In Colab\"/></a>"
      ]
    },
    {
      "cell_type": "code",
      "metadata": {
        "colab": {
          "base_uri": "https://localhost:8080/"
        },
        "id": "Due6fIz4lGXA",
        "outputId": "53ae1e2d-25da-4f78-e0bb-29bc0502e2d6"
      },
      "source": [
        "sueldos = [0.0 for x in range(7)]\r\n",
        "print(sueldos)\r\n",
        "sueldos[0] = 12.3\r\n",
        "sueldos[1] = 05.4\r\n",
        "sueldos[2] = 17\r\n",
        "sueldos[3] = 69\r\n",
        "sueldos[4] = 7.3\r\n",
        "sueldos[5] = 32.4\r\n",
        "sueldos[6] = 126.4\r\n",
        "print(sueldos)\r\n",
        "# Como le hacemos para asignarles valor de el 1.0 al 7.0\r\n",
        "# con una estructura for ?¿?¿?¿?\r\n",
        "\r\n",
        "for j in range(7):\r\n",
        "  sueldos[j]=float(input(\"Introduce un sueldo:\")) \r\n",
        "print(sueldos)\r\n",
        "\r\n",
        "#otra solucion\r\n",
        "sueldos = [0.0 for x in range(7)]\r\n",
        "for j in range (sueldo[7]):\r\n",
        "  sueldos[i] = float(i)+1.0\r\n",
        "  print(sueldos)\r\n",
        "\r\n",
        "#automatizar el recorrido de los elementos del arreglo\r\n",
        "for j in range (sueldo[7]):\r\n",
        "  print(f\"El trabajador { int(i)+1 } gana $ {sueldos[i]}\")\r\n",
        "\r\n",
        "  "
      ],
      "execution_count": null,
      "outputs": [
        {
          "output_type": "stream",
          "text": [
            "[0.0, 0.0, 0.0, 0.0, 0.0, 0.0, 0.0]\n",
            "[12.3, 5.4, 17, 69, 7.3, 32.4, 126.4]\n",
            "Introduce un sueldo:1\n",
            "Introduce un sueldo:2\n",
            "Introduce un sueldo:3\n",
            "Introduce un sueldo:4\n",
            "Introduce un sueldo:5\n",
            "Introduce un sueldo:6\n",
            "Introduce un sueldo:7\n",
            "[1.0, 2.0, 3.0, 4.0, 5.0, 6.0, 7.0]\n"
          ],
          "name": "stdout"
        }
      ]
    },
    {
      "cell_type": "code",
      "metadata": {
        "colab": {
          "base_uri": "https://localhost:8080/"
        },
        "id": "s2d4SicRo8sw",
        "outputId": "3d221239-c2b5-420c-bf73-6a8d3aff415d"
      },
      "source": [
        "# PROBLEMA 4.1\r\n",
        "MAXIMO  = 7\r\n",
        "sueldos = [0.0 for x in range(MAXIMO)]\r\n",
        "SUMA = 0.0\r\n",
        "PROM = 0.0\r\n",
        "\r\n",
        "for i in range(MAXIMO):\r\n",
        "  sueldos[i] = float (input(\"Dame el sueldo: \"))\r\n",
        "\r\n",
        "for i in range(MAXIMO):\r\n",
        "  print(f\"Trabajador {i + 1}, gana {sueldos[i]}\") \r\n",
        "\r\n",
        "for i in range(MAXIMO):\r\n",
        "  SUMA = SUMA + sueldos[i]\r\n",
        "PROM = SUMA / MAXIMO\r\n",
        "print(f\"El promedio de sueldo es {PROM}\")\r\n",
        "\r\n",
        "for i in range(MAXIMO):\r\n",
        "  if sueldos[i] > PROM:\r\n",
        "    print(f\"El trabajador {i + 1} tiene un sueldo mayor al promedio\")"
      ],
      "execution_count": null,
      "outputs": [
        {
          "output_type": "stream",
          "text": [
            "Dame el sueldo: 3\n",
            "Dame el sueldo: 4\n",
            "Dame el sueldo: 5\n",
            "Dame el sueldo: 4\n",
            "Dame el sueldo: 6\n",
            "Dame el sueldo: 4\n",
            "Dame el sueldo: 5\n",
            "Trabajador 1, gana 3.0\n",
            "Trabajador 2, gana 4.0\n",
            "Trabajador 3, gana 5.0\n",
            "Trabajador 4, gana 4.0\n",
            "Trabajador 5, gana 6.0\n",
            "Trabajador 6, gana 4.0\n",
            "Trabajador 7, gana 5.0\n",
            "El promedio de sueldo es 4.428571428571429\n",
            "El trabajador 3 tiene un sueldo mayor al promedio\n",
            "El trabajador 5 tiene un sueldo mayor al promedio\n",
            "El trabajador 7 tiene un sueldo mayor al promedio\n"
          ],
          "name": "stdout"
        }
      ]
    },
    {
      "cell_type": "code",
      "metadata": {
        "colab": {
          "base_uri": "https://localhost:8080/"
        },
        "id": "hQs_zVBro9Vp",
        "outputId": "7c0b96d6-0e09-47cb-fe92-005d2cd06e53"
      },
      "source": [
        "# hacer un programa que solicite 5 valores enteros positivos y \r\n",
        "#una ves que se capturen por teclado, el programa determine:\r\n",
        "#1.- cual es el mayor\r\n",
        "#2.- cual es el menor\r\n",
        "#3.- cual es el promedio\r\n",
        "\r\n",
        "maximo=5\r\n",
        "mayor=0\r\n",
        "menor=10000\r\n",
        "suma=0\r\n",
        "valor= [0.0 for x in range (maximo)]\r\n",
        "\r\n",
        "for i in range(maximo):\r\n",
        "  valor[i] = float(input(f\"Dame el valor: {i+1} \"))\r\n",
        "  suma=suma+valor[i]\r\n",
        "  if valor[i] > mayor:\r\n",
        "    mayor= valor[i]\r\n",
        "  elif valor[i] < menor:\r\n",
        "    menor = valor[i]\r\n",
        "\r\n",
        "\r\n",
        "promedio=suma/maximo\r\n",
        "print(f\"El valor maximo es: {mayor}\")\r\n",
        "print(f\"El valor minimo es: {menor}\")\r\n",
        "print(f\"El promedio es: {promedio}\")"
      ],
      "execution_count": null,
      "outputs": [
        {
          "output_type": "stream",
          "text": [
            "Dame el valor: 1 78\n",
            "Dame el valor: 2 56\n",
            "Dame el valor: 3 35\n",
            "Dame el valor: 4 23\n",
            "Dame el valor: 5 13\n",
            "El valor maximo es: 78.0\n",
            "El valor minimo es: 13.0\n",
            "El promedio es: 41.0\n"
          ],
          "name": "stdout"
        }
      ]
    },
    {
      "cell_type": "code",
      "metadata": {
        "colab": {
          "base_uri": "https://localhost:8080/",
          "height": 363
        },
        "id": "sit2G7Zvw9sG",
        "outputId": "206ac6b5-9eef-4995-a672-478e442e76ff"
      },
      "source": [
        "#problema 4.1\r\n",
        "N = int(input(\"Ingrese el numero de elementos del arreglo: \"))\r\n",
        "VEC = []\r\n",
        "if 1 <= N and N <= 500:\r\n",
        "  VEC = [0 for x in range(N)]\r\n",
        "  for i in range(N):\r\n",
        "    VEC[i] = int(input(\"Ingrese valor: \" + str(i+1) +\":\"))\r\n",
        "  print(\"Lista de numeros sin repeticiones\")\r\n",
        "\r\n",
        "  for i in range(N):\r\n",
        "    print(VEC[i])\r\n",
        "    REPET = VEC[I]\r\n",
        "    while i < N and REPET == VEC[i]:\r\n",
        "      print(\"incrementa i\", i)\r\n",
        "      i = i+1\r\n",
        "\r\n",
        "else:\r\n",
        "  print(\"El numero de elementos del arreglo es incorrecto\")"
      ],
      "execution_count": null,
      "outputs": [
        {
          "output_type": "stream",
          "text": [
            "Ingrese el numero de elementos del arreglo: 5\n",
            "Ingrese valor: 1:2\n",
            "Ingrese valor: 2:3\n",
            "Ingrese valor: 3:3\n",
            "Ingrese valor: 4:4\n",
            "Ingrese valor: 5:3\n",
            "Lista de numeros sin repeticiones\n",
            "2\n"
          ],
          "name": "stdout"
        },
        {
          "output_type": "error",
          "ename": "NameError",
          "evalue": "ignored",
          "traceback": [
            "\u001b[0;31m---------------------------------------------------------------------------\u001b[0m",
            "\u001b[0;31mNameError\u001b[0m                                 Traceback (most recent call last)",
            "\u001b[0;32m<ipython-input-29-47113c67f767>\u001b[0m in \u001b[0;36m<module>\u001b[0;34m()\u001b[0m\n\u001b[1;32m     10\u001b[0m   \u001b[0;32mfor\u001b[0m \u001b[0mi\u001b[0m \u001b[0;32min\u001b[0m \u001b[0mrange\u001b[0m\u001b[0;34m(\u001b[0m\u001b[0mN\u001b[0m\u001b[0;34m)\u001b[0m\u001b[0;34m:\u001b[0m\u001b[0;34m\u001b[0m\u001b[0;34m\u001b[0m\u001b[0m\n\u001b[1;32m     11\u001b[0m     \u001b[0mprint\u001b[0m\u001b[0;34m(\u001b[0m\u001b[0mVEC\u001b[0m\u001b[0;34m[\u001b[0m\u001b[0mi\u001b[0m\u001b[0;34m]\u001b[0m\u001b[0;34m)\u001b[0m\u001b[0;34m\u001b[0m\u001b[0;34m\u001b[0m\u001b[0m\n\u001b[0;32m---> 12\u001b[0;31m     \u001b[0mREPET\u001b[0m \u001b[0;34m=\u001b[0m \u001b[0mVEC\u001b[0m\u001b[0;34m[\u001b[0m\u001b[0mI\u001b[0m\u001b[0;34m]\u001b[0m\u001b[0;34m\u001b[0m\u001b[0;34m\u001b[0m\u001b[0m\n\u001b[0m\u001b[1;32m     13\u001b[0m     \u001b[0;32mwhile\u001b[0m \u001b[0mi\u001b[0m \u001b[0;34m<\u001b[0m \u001b[0mN\u001b[0m \u001b[0;32mand\u001b[0m \u001b[0mREPET\u001b[0m \u001b[0;34m==\u001b[0m \u001b[0mVEC\u001b[0m\u001b[0;34m[\u001b[0m\u001b[0mi\u001b[0m\u001b[0;34m]\u001b[0m\u001b[0;34m:\u001b[0m\u001b[0;34m\u001b[0m\u001b[0;34m\u001b[0m\u001b[0m\n\u001b[1;32m     14\u001b[0m       \u001b[0mprint\u001b[0m\u001b[0;34m(\u001b[0m\u001b[0;34m\"incrementa i\"\u001b[0m\u001b[0;34m,\u001b[0m \u001b[0mi\u001b[0m\u001b[0;34m)\u001b[0m\u001b[0;34m\u001b[0m\u001b[0;34m\u001b[0m\u001b[0m\n",
            "\u001b[0;31mNameError\u001b[0m: name 'I' is not defined"
          ]
        }
      ]
    }
  ]
}