{
  "nbformat": 4,
  "nbformat_minor": 0,
  "metadata": {
    "colab": {
      "name": "7_enero_cyp.ipynb",
      "provenance": [],
      "authorship_tag": "ABX9TyOAOFGfvktiBVW4npypDSGL",
      "include_colab_link": true
    },
    "kernelspec": {
      "name": "python3",
      "display_name": "Python 3"
    }
  },
  "cells": [
    {
      "cell_type": "markdown",
      "metadata": {
        "id": "view-in-github",
        "colab_type": "text"
      },
      "source": [
        "<a href=\"https://colab.research.google.com/github/edgar-ian-rmz/Ejercicios-de-computadoras-y-programacion/blob/main/7_enero_cyp.ipynb\" target=\"_parent\"><img src=\"https://colab.research.google.com/assets/colab-badge.svg\" alt=\"Open In Colab\"/></a>"
      ]
    },
    {
      "cell_type": "code",
      "metadata": {
        "colab": {
          "base_uri": "https://localhost:8080/"
        },
        "id": "3D_bz2s25e15",
        "outputId": "12cc6e03-95d4-4ce3-d260-14434b25268e"
      },
      "source": [
        "Ren = 5\r\n",
        "Col = 5\r\n",
        "Vec = [[0 for x in range(Col)] for x in range(Ren)]\r\n",
        "print(Vec)\r\n",
        "Vec[1][2] = 15\r\n",
        "print(Vec)\r\n",
        "\r\n",
        "print(\"Automatizar el recorrido del arreglo\")\r\n",
        "for i in range(Ren):\r\n",
        "  for j in range(Col):\r\n",
        "    print(f\"{i},{j} = {Vec[i][j]}\")"
      ],
      "execution_count": 7,
      "outputs": [
        {
          "output_type": "stream",
          "text": [
            "[[0, 0, 0, 0, 0], [0, 0, 0, 0, 0], [0, 0, 0, 0, 0], [0, 0, 0, 0, 0], [0, 0, 0, 0, 0]]\n",
            "[[0, 0, 0, 0, 0], [0, 0, 15, 0, 0], [0, 0, 0, 0, 0], [0, 0, 0, 0, 0], [0, 0, 0, 0, 0]]\n",
            "Automatizar el recorrido del arreglo\n",
            "0,0 = 0\n",
            "0,1 = 0\n",
            "0,2 = 0\n",
            "0,3 = 0\n",
            "0,4 = 0\n",
            "1,0 = 0\n",
            "1,1 = 0\n",
            "1,2 = 15\n",
            "1,3 = 0\n",
            "1,4 = 0\n",
            "2,0 = 0\n",
            "2,1 = 0\n",
            "2,2 = 0\n",
            "2,3 = 0\n",
            "2,4 = 0\n",
            "3,0 = 0\n",
            "3,1 = 0\n",
            "3,2 = 0\n",
            "3,3 = 0\n",
            "3,4 = 0\n",
            "4,0 = 0\n",
            "4,1 = 0\n",
            "4,2 = 0\n",
            "4,3 = 0\n",
            "4,4 = 0\n"
          ],
          "name": "stdout"
        }
      ]
    },
    {
      "cell_type": "code",
      "metadata": {
        "colab": {
          "base_uri": "https://localhost:8080/"
        },
        "id": "_4nCgsFnFF36",
        "outputId": "e3002c0e-ccb1-4381-e856-1e53b0bf80ca"
      },
      "source": [
        "estados= int (input(\"Cuantos estados son?: \"))\r\n",
        "lluvias_men_est= [ [0 for x in range(12)] for x in range(estados)]\r\n",
        "print(lluvias_men_est)\r\n",
        "for i in range(estados):\r\n",
        "  for j in range(12):\r\n",
        "    mensaje = \"Dame el siguiente valor\" + str(i+1) + \"del mes\" + str(j+1), \":\"\r\n",
        "    aux = int(input(mensaje))\r\n",
        "    lluvias_men_est[i][j]= aux\r\n",
        "\r\n",
        "print(lluvias_men_est)\r\n",
        "\r\n",
        "print(\"promedio de lluvias en los estados: \")\r\n",
        "for i in range(estados):\r\n",
        "  suma = 0\r\n",
        "  for j in range(12):\r\n",
        "    suma = suma + lluvias_men_est[i][j]\r\n",
        "  print(f\"el pormedio de lluvias en el estado {i+1} es { suma /12 }\")"
      ],
      "execution_count": 14,
      "outputs": [
        {
          "output_type": "stream",
          "text": [
            "Cuantos estados son?: 2\n",
            "[[0, 0, 0, 0, 0, 0, 0, 0, 0, 0, 0, 0], [0, 0, 0, 0, 0, 0, 0, 0, 0, 0, 0, 0]]\n",
            "Dame el siguiente valor1del mes1,:50\n",
            "Dame el siguiente valor1del mes2,:7\n",
            "Dame el siguiente valor1del mes3,:12\n",
            "Dame el siguiente valor1del mes4,:15\n",
            "Dame el siguiente valor1del mes5,:22\n",
            "Dame el siguiente valor1del mes6,:50\n",
            "Dame el siguiente valor1del mes7,:85\n",
            "Dame el siguiente valor1del mes8,:70\n",
            "Dame el siguiente valor1del mes9,:65\n",
            "Dame el siguiente valor1del mes10,:28\n",
            "Dame el siguiente valor1del mes11,:35\n",
            "Dame el siguiente valor1del mes12,:17\n",
            "Dame el siguiente valor2del mes1,:45\n",
            "Dame el siguiente valor2del mes2,:3\n",
            "Dame el siguiente valor2del mes3,:10\n",
            "Dame el siguiente valor2del mes4,:5\n",
            "Dame el siguiente valor2del mes5,:30\n",
            "Dame el siguiente valor2del mes6,:90\n",
            "Dame el siguiente valor2del mes7,:130\n",
            "Dame el siguiente valor2del mes8,:75\n",
            "Dame el siguiente valor2del mes9,:49\n",
            "Dame el siguiente valor2del mes10,:37\n",
            "Dame el siguiente valor2del mes11,:15\n",
            "Dame el siguiente valor2del mes12,:8\n",
            "[[50, 7, 12, 15, 22, 50, 85, 70, 65, 28, 35, 17], [45, 3, 10, 5, 30, 90, 130, 75, 49, 37, 15, 8]]\n",
            "promedio de lluvias en los estados: \n",
            "el pormedio de lluvias en el estado 1 es 38.0\n",
            "el pormedio de lluvias en el estado 2 es 41.416666666666664\n"
          ],
          "name": "stdout"
        }
      ]
    }
  ]
}