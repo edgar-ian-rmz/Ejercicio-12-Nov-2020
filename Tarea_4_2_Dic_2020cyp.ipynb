{
  "nbformat": 4,
  "nbformat_minor": 0,
  "metadata": {
    "colab": {
      "name": "Tarea 4 /2_Dic_2020cyp.ipynb",
      "provenance": [],
      "authorship_tag": "ABX9TyP7BLi6K5ivhdxiLTrlzc8L",
      "include_colab_link": true
    },
    "kernelspec": {
      "name": "python3",
      "display_name": "Python 3"
    }
  },
  "cells": [
    {
      "cell_type": "markdown",
      "metadata": {
        "id": "view-in-github",
        "colab_type": "text"
      },
      "source": [
        "<a href=\"https://colab.research.google.com/github/edgar-ian-rmz/Ejercicios-de-computadoras-y-programacion/blob/main/Tarea_4_2_Dic_2020cyp.ipynb\" target=\"_parent\"><img src=\"https://colab.research.google.com/assets/colab-badge.svg\" alt=\"Open In Colab\"/></a>"
      ]
    },
    {
      "cell_type": "code",
      "metadata": {
        "colab": {
          "base_uri": "https://localhost:8080/"
        },
        "id": "SOTec5C-Rc5c",
        "outputId": "56db5d48-18ff-4192-8542-1c02425f1956"
      },
      "source": [
        "#Ejemplo 2.4\n",
        "print(\"Ingrese el nombre del trabjador\")\n",
        "nombre=input()\n",
        "print(\"Cuanto se paga por hora?:\")\n",
        "sueldo=float(input())\n",
        "\n",
        "if (sueldo<=1000):\n",
        "  pago=(sueldo*.15)+sueldo\n",
        "  print(\"el sueldo final de\" ,nombre , \"Es $\", pago)\n",
        "\n",
        "elif (sueldo>100):\n",
        "  pago=(sueldo*.12)+sueldo\n",
        "  print(\"el sueldo final de\" ,nombre , \"Es $\", pago)\n"
      ],
      "execution_count": 6,
      "outputs": [
        {
          "output_type": "stream",
          "text": [
            "Ingrese el nombre del trabjador\n",
            "Saul\n",
            "Cuanto se paga por hora?:\n",
            "800\n",
            "el sueldo final de Saul Es $ 920.0\n"
          ],
          "name": "stdout"
        }
      ]
    },
    {
      "cell_type": "code",
      "metadata": {
        "colab": {
          "base_uri": "https://localhost:8080/"
        },
        "id": "7oyzxlIDT4qt",
        "outputId": "637d508d-db8c-4402-b03a-f15eb7c8106c"
      },
      "source": [
        "#Ejemplo 2.8\n",
        "print(\"Ingrese el nombre del trabjador\")\n",
        "nombre=input()\n",
        "print(\"Cuanto se paga por hora?:\")\n",
        "SUE=float(input())\n",
        "print(\"Que tipo de trabajador es?:\")\n",
        "CATE=int(input())\n",
        "\n",
        "if (CATE==1):\n",
        "  NSUE=SUE*1.15\n",
        "  print(\"el sueldo final de\" ,nombre , \"Es $\", NSUE)\n",
        "\n",
        "elif (CATE==2):\n",
        "  NSUE=SUE*1.10\n",
        "  print(\"el sueldo final de\" ,nombre , \"Es $\", NSUE)\n",
        "\n",
        "elif (CATE==3):\n",
        "  NSUE=SUE*1.8\n",
        "  print(\"el sueldo final de\" ,nombre , \"Es $\", NSUE)\n",
        "\n",
        "elif (CATE==4):\n",
        "  NSUE=SUE*1.7\n",
        "  print(\"el sueldo final de\" ,nombre , \"Es $\", NSUE)\n",
        "  "
      ],
      "execution_count": 7,
      "outputs": [
        {
          "output_type": "stream",
          "text": [
            "Ingrese el nombre del trabjador\n",
            "Juan\n",
            "Cuanto se paga por hora?:\n",
            "400\n",
            "Que tipo de trabajador es?:\n",
            "3\n",
            "el sueldo final de Juan Es $ 720.0\n"
          ],
          "name": "stdout"
        }
      ]
    }
  ]
}