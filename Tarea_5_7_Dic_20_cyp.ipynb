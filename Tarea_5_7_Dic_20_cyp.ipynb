{
  "nbformat": 4,
  "nbformat_minor": 0,
  "metadata": {
    "colab": {
      "name": "Tarea 5_7_Dic_20_cyp.ipynb",
      "provenance": [],
      "authorship_tag": "ABX9TyMWDeUFBNitsk8ZXlNNHAZb",
      "include_colab_link": true
    },
    "kernelspec": {
      "name": "python3",
      "display_name": "Python 3"
    }
  },
  "cells": [
    {
      "cell_type": "markdown",
      "metadata": {
        "id": "view-in-github",
        "colab_type": "text"
      },
      "source": [
        "<a href=\"https://colab.research.google.com/github/edgar-ian-rmz/Ejercicios-de-computadoras-y-programacion/blob/main/Tarea_5_7_Dic_20_cyp.ipynb\" target=\"_parent\"><img src=\"https://colab.research.google.com/assets/colab-badge.svg\" alt=\"Open In Colab\"/></a>"
      ]
    },
    {
      "cell_type": "code",
      "metadata": {
        "colab": {
          "base_uri": "https://localhost:8080/"
        },
        "id": "4_zHJBsIhgBd",
        "outputId": "ccceaef1-49ee-43c5-9b70-9bb650124a35"
      },
      "source": [
        "#Ejemplo 3.1\n",
        "\n",
        "#Este es un modelo de compras de desinfectantes por internet\n",
        "#En la compra de mas de 3 unidades se le regala 1 jabon\n",
        "\n",
        "unidades=int(input(\"introdusca cuntas unidades desea comprar: \"))\n",
        "while unidades < 3:\n",
        "  print(\"Gracias por su compra, \" \"unidades de desinfectante adquiridas: \" + str (unidades))\n",
        "  unidades=int(input(\"introdusca cuntas unidades desea comprar: \"))\n",
        "print(\"gracias por su compra. Sera acredor de un jabon de cortesia\")\n",
        "print( \"Gracias por su compra, \" \"unidades de desinfectante adquiridas: \" + str(unidades))"
      ],
      "execution_count": 13,
      "outputs": [
        {
          "output_type": "stream",
          "text": [
            "introdusca cuntas unidades desea comprar: 2\n",
            "Gracias por su compra, unidades de desinfectante adquiridas: 2\n",
            "introdusca cuntas unidades desea comprar: 8\n",
            "gracias por su compra. Sera acredor de un jabon de cortesia\n",
            "Gracias por su compra, unidades de desinfectante adquiridas: 8\n"
          ],
          "name": "stdout"
        }
      ]
    },
    {
      "cell_type": "code",
      "metadata": {
        "colab": {
          "base_uri": "https://localhost:8080/"
        },
        "id": "VZnw9Vs0oT1C",
        "outputId": "16e902a2-0d6d-44d9-eaec-ee3d671b2300"
      },
      "source": [
        "#Ejemplo 3.4\n",
        "\n",
        "Gasto=int(input(\"Intoduce el numero de gastos realizados: \"))\n",
        "Sumgas=0\n",
        "while Gasto<=-1:\n",
        "  print(\"has introducido una cantidad incorrecta, intentalo de nuevo\")\n",
        "  Gasto=int(input(\"Intoduce el numero de gastos realizados: \"))\n",
        "  Sumgas=(Gasto + Sumgas)\n",
        "  print(\"La cantidad de gastos fueron: \" + str(Sumgas))\n"
      ],
      "execution_count": 14,
      "outputs": [
        {
          "output_type": "stream",
          "text": [
            "Intoduce el numero de gastos realizados: -2\n",
            "has introducido una cantidad incorrecta, intentalo de nuevo\n",
            "Intoduce el numero de gastos realizados: 8\n",
            "La cantidad de gastos fueron8\n"
          ],
          "name": "stdout"
        }
      ]
    }
  ]
}