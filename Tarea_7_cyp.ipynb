{
  "nbformat": 4,
  "nbformat_minor": 0,
  "metadata": {
    "colab": {
      "name": "Tarea 7 cyp.ipynb",
      "provenance": [],
      "authorship_tag": "ABX9TyNd4MKRqYoeDEnoX31zjeRJ",
      "include_colab_link": true
    },
    "kernelspec": {
      "name": "python3",
      "display_name": "Python 3"
    }
  },
  "cells": [
    {
      "cell_type": "markdown",
      "metadata": {
        "id": "view-in-github",
        "colab_type": "text"
      },
      "source": [
        "<a href=\"https://colab.research.google.com/github/edgar-ian-rmz/Ejercicios-de-computadoras-y-programacion/blob/main/Tarea_7_cyp.ipynb\" target=\"_parent\"><img src=\"https://colab.research.google.com/assets/colab-badge.svg\" alt=\"Open In Colab\"/></a>"
      ]
    },
    {
      "cell_type": "code",
      "metadata": {
        "id": "vuvL3Kd3JY39"
      },
      "source": [
        "#Problema 4.11\r\n",
        "\r\n",
        "paises=0\r\n",
        "America = [ [0 for x in range(30)] for x in range(paises)]\r\n",
        "\r\n",
        "paises = int(input(\"cuantos paises tiene el sur? \"))\r\n",
        "SUR = [for i in range(30)]\r\n",
        "for i in range(paises)\r\n",
        "mensaje = (\"Dame el nombre del pais\" + str(i+1), \":\")\r\n",
        "aux = input(mensaje)\r\n",
        "SUR = [i][j]=aux\r\n",
        "\r\n",
        "paises = int(input(\"cuantos paises tiene el cento? \"))\r\n",
        "CENTRO = [for k in range(30)] \r\n",
        "[for k in range(paises)]\r\n",
        "mensaje = (\"Dame el nombre del pais\" + str(k+1), \":\")\r\n",
        "aux = input(mensaje)\r\n",
        "CENTRO = [k][l]=aux\r\n",
        "\r\n",
        "paises = int(input(\"cuantos paises tiene el norte? \"))\r\n",
        "NORTE = [for m in range(30)]\r\n",
        "for m in range(paises)\r\n",
        "mensaje = (\"Dame el nombre del pais\" + str(m+1), \":\")\r\n",
        "aux = input(mensaje)\r\n",
        "Norte = [m][n]=aux\r\n",
        "\r\n",
        "print(America)\"Sorted\""
      ],
      "execution_count": null,
      "outputs": []
    }
  ]
}