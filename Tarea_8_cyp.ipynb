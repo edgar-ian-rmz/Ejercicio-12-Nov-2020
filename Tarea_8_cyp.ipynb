{
  "nbformat": 4,
  "nbformat_minor": 0,
  "metadata": {
    "colab": {
      "name": "Tarea_8_cyp.ipynb",
      "provenance": [],
      "authorship_tag": "ABX9TyN4pA1cjnWzYXPZIdFpCexL",
      "include_colab_link": true
    },
    "kernelspec": {
      "name": "python3",
      "display_name": "Python 3"
    }
  },
  "cells": [
    {
      "cell_type": "markdown",
      "metadata": {
        "id": "view-in-github",
        "colab_type": "text"
      },
      "source": [
        "<a href=\"https://colab.research.google.com/github/edgar-ian-rmz/Ejercicios-de-computadoras-y-programacion/blob/main/Tarea_8_cyp.ipynb\" target=\"_parent\"><img src=\"https://colab.research.google.com/assets/colab-badge.svg\" alt=\"Open In Colab\"/></a>"
      ]
    },
    {
      "cell_type": "code",
      "metadata": {
        "colab": {
          "base_uri": "https://localhost:8080/"
        },
        "id": "hXYRAPgdGlp9",
        "outputId": "75ffcd6a-50e1-4c2f-a5aa-1c99ec74f5de"
      },
      "source": [
        "print(\"\\u2620 \\u2620 \\u2620 \\u2620 \\u2620 \\u2620 \\u2620 \\u2620 \\u2620 \\u2620 \\u2620 \\u2620 \\u2620 \\u2620 \\u2620 \\u2620 \\u2620 \\u2620 \\u2620 \\u2620 \\u2620 \\u2620\")\r\n",
        "print(\"\\u2620 \\u03b5\\u03b5\\u03b5\\u03b5\\u03b5\\u03b5\\u03b5\\u03b5\\u03b5 \\u24b9\\u24b9          \\u10a16\\u10a16\\u10a16        \\u0b05        \\u05e8 \\u05e8 \\u05e8    \\u2620\")                    \r\n",
        "print(\"\\u2620 \\u03b5         \\u24b9  \\u24b9      \\u10a16            \\u0b05   \\u0b05      \\u05e8     \\u05e8  \\u2620\")\r\n",
        "print(\"\\u2620 \\u03b5         \\u24b9   \\u24b9   \\u10a16              \\u0b05   \\u0b05      \\u05e8      \\u05e8 \\u2620\")\r\n",
        "print(\"\\u2620 \\u03b5         \\u24b9    \\u24b9 \\u10a16              \\u0b05     \\u0b05     \\u05e8     \\u05e8  \\u2620\")\r\n",
        "print(\"\\u2620 \\u03b5\\u03b5\\u03b5\\u03b5      \\u24b9    \\u24b9 \\u10a16   \\u10a16\\u10a16\\u10a16    \\u0b05\\u0b05\\u0b05\\u0b05\\u0b05\\u0b05\\u0b05     \\u05e8 \\u05e8 \\u05e8    \\u2620\")                            \r\n",
        "print(\"\\u2620 \\u03b5         \\u24b9    \\u24b9 \\u10a16        \\u10a16  \\u0b05        \\u0b05    \\u05e8  \\u05e8     \\u2620\")\r\n",
        "print(\"\\u2620 \\u03b5         \\u24b9   \\u24b9    \\u10a16      \\u10a16  \\u0b05         \\u0b05   \\u05e8    \\u05e8   \\u2620\")        \r\n",
        "print(\"\\u2620 \\u03b5         \\u24b9  \\u24b9       \\u10a16  \\u10a16   \\u0b05           \\u0b05  \\u05e8     \\u05e8  \\u2620\")\r\n",
        "print(\"\\u2620 \\u03b5\\u03b5\\u03b5\\u03b5\\u03b5\\u03b5\\u03b5\\u03b5\\u03b5 \\u24b9\\u24b9           \\u10a16     \\u0b05            \\u0b05 \\u05e8      \\u05e8 \\u2620\")                                   \r\n",
        "print(\"\\u2620 \\u2620 \\u2620 \\u2620 \\u2620 \\u2620 \\u2620 \\u2620 \\u2620 \\u2620 \\u2620 \\u2620 \\u2620 \\u2620 \\u2620 \\u2620 \\u2620 \\u2620 \\u2620 \\u2620 \\u2620 \\u2620\")\r\n"
      ],
      "execution_count": 207,
      "outputs": [
        {
          "output_type": "stream",
          "text": [
            "☠ ☠ ☠ ☠ ☠ ☠ ☠ ☠ ☠ ☠ ☠ ☠ ☠ ☠ ☠ ☠ ☠ ☠ ☠ ☠ ☠ ☠\n",
            "☠ εεεεεεεεε ⒹⒹ          Ⴁ6Ⴁ6Ⴁ6        ଅ        ר ר ר    ☠\n",
            "☠ ε         Ⓓ  Ⓓ      Ⴁ6            ଅ   ଅ      ר     ר  ☠\n",
            "☠ ε         Ⓓ   Ⓓ   Ⴁ6              ଅ   ଅ      ר      ר ☠\n",
            "☠ ε         Ⓓ    Ⓓ Ⴁ6              ଅ     ଅ     ר     ר  ☠\n",
            "☠ εεεε      Ⓓ    Ⓓ Ⴁ6   Ⴁ6Ⴁ6Ⴁ6    ଅଅଅଅଅଅଅ     ר ר ר    ☠\n",
            "☠ ε         Ⓓ    Ⓓ Ⴁ6        Ⴁ6  ଅ        ଅ    ר  ר     ☠\n",
            "☠ ε         Ⓓ   Ⓓ    Ⴁ6      Ⴁ6  ଅ         ଅ   ר    ר   ☠\n",
            "☠ ε         Ⓓ  Ⓓ       Ⴁ6  Ⴁ6   ଅ           ଅ  ר     ר  ☠\n",
            "☠ εεεεεεεεε ⒹⒹ           Ⴁ6     ଅ            ଅ ר      ר ☠\n",
            "☠ ☠ ☠ ☠ ☠ ☠ ☠ ☠ ☠ ☠ ☠ ☠ ☠ ☠ ☠ ☠ ☠ ☠ ☠ ☠ ☠ ☠\n"
          ],
          "name": "stdout"
        }
      ]
    }
  ]
}